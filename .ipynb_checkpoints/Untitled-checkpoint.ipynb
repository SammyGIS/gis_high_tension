{
 "cells": [
  {
   "cell_type": "code",
   "execution_count": 2,
   "id": "0c98ed63",
   "metadata": {},
   "outputs": [
    {
     "name": "stderr",
     "output_type": "stream",
     "text": [
      "D:\\NBS_work\\NBS_Data_Validation\\env\\lib\\site-packages\\geopandas\\_compat.py:115: UserWarning: The Shapely GEOS version (3.10.1-CAPI-1.16.0) is incompatible with the GEOS version PyGEOS was compiled with (3.10.4-CAPI-1.16.2). Conversions between both will be slow.\n",
      "  shapely_geos_version, geos_capi_version_string\n"
     ]
    }
   ],
   "source": [
    "import pandas as pd\n",
    "import geopandas as gpd"
   ]
  },
  {
   "cell_type": "code",
   "execution_count": 22,
   "id": "011351ba",
   "metadata": {},
   "outputs": [],
   "source": [
    "high_tension = gpd.read_file(r'les données\\ligne_haute_tension.shp')\n",
    "pipeline =  gpd.read_file(r'les données\\pipeline.shp')"
   ]
  },
  {
   "cell_type": "code",
   "execution_count": 23,
   "id": "4141aad9",
   "metadata": {
    "scrolled": true
   },
   "outputs": [
    {
     "data": {
      "text/html": [
       "<div>\n",
       "<style scoped>\n",
       "    .dataframe tbody tr th:only-of-type {\n",
       "        vertical-align: middle;\n",
       "    }\n",
       "\n",
       "    .dataframe tbody tr th {\n",
       "        vertical-align: top;\n",
       "    }\n",
       "\n",
       "    .dataframe thead th {\n",
       "        text-align: right;\n",
       "    }\n",
       "</style>\n",
       "<table border=\"1\" class=\"dataframe\">\n",
       "  <thead>\n",
       "    <tr style=\"text-align: right;\">\n",
       "      <th></th>\n",
       "      <th>External_I</th>\n",
       "      <th>Code_Zone_</th>\n",
       "      <th>Voltage</th>\n",
       "      <th>Comments</th>\n",
       "      <th>Descriptio</th>\n",
       "      <th>Region_Cod</th>\n",
       "      <th>Source_GCL</th>\n",
       "      <th>Link_Field</th>\n",
       "      <th>Link_Fie_1</th>\n",
       "      <th>GlobalID</th>\n",
       "      <th>SHAPE_STLe</th>\n",
       "      <th>distance</th>\n",
       "      <th>Shape_Leng</th>\n",
       "      <th>geometry</th>\n",
       "    </tr>\n",
       "  </thead>\n",
       "  <tbody>\n",
       "    <tr>\n",
       "      <th>0</th>\n",
       "      <td>LIGNELEC0000000045730987</td>\n",
       "      <td>NF</td>\n",
       "      <td>90</td>\n",
       "      <td>None</td>\n",
       "      <td>None</td>\n",
       "      <td>3</td>\n",
       "      <td>7</td>\n",
       "      <td>None</td>\n",
       "      <td>None</td>\n",
       "      <td>{9564C5B9-2809-4B5E-9DB2-015E92E60C03}</td>\n",
       "      <td>25577.551774</td>\n",
       "      <td>0.0</td>\n",
       "      <td>25577.551774</td>\n",
       "      <td>LINESTRING Z (278753.347 6554132.625 0.000, 27...</td>\n",
       "    </tr>\n",
       "    <tr>\n",
       "      <th>1</th>\n",
       "      <td>LIGNELEC0000002010245383</td>\n",
       "      <td>NF</td>\n",
       "      <td>225</td>\n",
       "      <td>None</td>\n",
       "      <td>None</td>\n",
       "      <td>3</td>\n",
       "      <td>7</td>\n",
       "      <td>None</td>\n",
       "      <td>None</td>\n",
       "      <td>{5FE7FACF-DFAC-497A-B6CB-06E539C26473}</td>\n",
       "      <td>385.265474</td>\n",
       "      <td>0.0</td>\n",
       "      <td>385.265474</td>\n",
       "      <td>LINESTRING Z (253567.173 6623935.182 0.000, 25...</td>\n",
       "    </tr>\n",
       "    <tr>\n",
       "      <th>2</th>\n",
       "      <td>LIGNELEC0000000312767242</td>\n",
       "      <td>NF</td>\n",
       "      <td>400</td>\n",
       "      <td>None</td>\n",
       "      <td>None</td>\n",
       "      <td>3</td>\n",
       "      <td>7</td>\n",
       "      <td>None</td>\n",
       "      <td>None</td>\n",
       "      <td>{28237C0B-D7C9-4B92-8C8A-085FDC979DB9}</td>\n",
       "      <td>7396.120261</td>\n",
       "      <td>0.0</td>\n",
       "      <td>7396.120261</td>\n",
       "      <td>LINESTRING Z (332493.612 6514015.027 0.000, 33...</td>\n",
       "    </tr>\n",
       "    <tr>\n",
       "      <th>3</th>\n",
       "      <td>LIGNELEC0000000312768058</td>\n",
       "      <td>NF</td>\n",
       "      <td>150</td>\n",
       "      <td>None</td>\n",
       "      <td>None</td>\n",
       "      <td>3</td>\n",
       "      <td>7</td>\n",
       "      <td>None</td>\n",
       "      <td>None</td>\n",
       "      <td>{FB28B8B4-4CBB-4DE7-B093-088AF8C734A2}</td>\n",
       "      <td>5638.294319</td>\n",
       "      <td>0.0</td>\n",
       "      <td>5638.294319</td>\n",
       "      <td>LINESTRING Z (371772.677 6501569.100 0.000, 37...</td>\n",
       "    </tr>\n",
       "    <tr>\n",
       "      <th>4</th>\n",
       "      <td>LIGNELEC0000000312767452</td>\n",
       "      <td>NF</td>\n",
       "      <td>63</td>\n",
       "      <td>None</td>\n",
       "      <td>None</td>\n",
       "      <td>3</td>\n",
       "      <td>7</td>\n",
       "      <td>None</td>\n",
       "      <td>None</td>\n",
       "      <td>{27169CC9-973E-49F2-B186-08EBD3F65C05}</td>\n",
       "      <td>55.754551</td>\n",
       "      <td>0.0</td>\n",
       "      <td>55.754551</td>\n",
       "      <td>LINESTRING Z (389828.596 6500382.776 0.000, 38...</td>\n",
       "    </tr>\n",
       "  </tbody>\n",
       "</table>\n",
       "</div>"
      ],
      "text/plain": [
       "                 External_I Code_Zone_  Voltage Comments Descriptio  \\\n",
       "0  LIGNELEC0000000045730987         NF       90     None       None   \n",
       "1  LIGNELEC0000002010245383         NF      225     None       None   \n",
       "2  LIGNELEC0000000312767242         NF      400     None       None   \n",
       "3  LIGNELEC0000000312768058         NF      150     None       None   \n",
       "4  LIGNELEC0000000312767452         NF       63     None       None   \n",
       "\n",
       "  Region_Cod Source_GCL Link_Field Link_Fie_1  \\\n",
       "0          3          7       None       None   \n",
       "1          3          7       None       None   \n",
       "2          3          7       None       None   \n",
       "3          3          7       None       None   \n",
       "4          3          7       None       None   \n",
       "\n",
       "                                 GlobalID    SHAPE_STLe  distance  \\\n",
       "0  {9564C5B9-2809-4B5E-9DB2-015E92E60C03}  25577.551774       0.0   \n",
       "1  {5FE7FACF-DFAC-497A-B6CB-06E539C26473}    385.265474       0.0   \n",
       "2  {28237C0B-D7C9-4B92-8C8A-085FDC979DB9}   7396.120261       0.0   \n",
       "3  {FB28B8B4-4CBB-4DE7-B093-088AF8C734A2}   5638.294319       0.0   \n",
       "4  {27169CC9-973E-49F2-B186-08EBD3F65C05}     55.754551       0.0   \n",
       "\n",
       "     Shape_Leng                                           geometry  \n",
       "0  25577.551774  LINESTRING Z (278753.347 6554132.625 0.000, 27...  \n",
       "1    385.265474  LINESTRING Z (253567.173 6623935.182 0.000, 25...  \n",
       "2   7396.120261  LINESTRING Z (332493.612 6514015.027 0.000, 33...  \n",
       "3   5638.294319  LINESTRING Z (371772.677 6501569.100 0.000, 37...  \n",
       "4     55.754551  LINESTRING Z (389828.596 6500382.776 0.000, 38...  "
      ]
     },
     "execution_count": 23,
     "metadata": {},
     "output_type": "execute_result"
    }
   ],
   "source": [
    "high_tension.head()"
   ]
  },
  {
   "cell_type": "code",
   "execution_count": 25,
   "id": "f6a8c925",
   "metadata": {},
   "outputs": [
    {
     "name": "stdout",
     "output_type": "stream",
     "text": [
      "<class 'geopandas.geodataframe.GeoDataFrame'>\n",
      "RangeIndex: 153 entries, 0 to 152\n",
      "Data columns (total 14 columns):\n",
      " #   Column      Non-Null Count  Dtype   \n",
      "---  ------      --------------  -----   \n",
      " 0   External_I  153 non-null    object  \n",
      " 1   Code_Zone_  153 non-null    object  \n",
      " 2   Voltage     153 non-null    int64   \n",
      " 3   Comments    0 non-null      object  \n",
      " 4   Descriptio  0 non-null      object  \n",
      " 5   Region_Cod  153 non-null    object  \n",
      " 6   Source_GCL  153 non-null    object  \n",
      " 7   Link_Field  0 non-null      object  \n",
      " 8   Link_Fie_1  0 non-null      object  \n",
      " 9   GlobalID    153 non-null    object  \n",
      " 10  SHAPE_STLe  153 non-null    float64 \n",
      " 11  distance    153 non-null    float64 \n",
      " 12  Shape_Leng  153 non-null    float64 \n",
      " 13  geometry    153 non-null    geometry\n",
      "dtypes: float64(3), geometry(1), int64(1), object(9)\n",
      "memory usage: 16.9+ KB\n"
     ]
    }
   ],
   "source": [
    "high_tension.info()"
   ]
  },
  {
   "cell_type": "code",
   "execution_count": 8,
   "id": "c577fe6c",
   "metadata": {},
   "outputs": [
    {
     "data": {
      "text/html": [
       "<div>\n",
       "<style scoped>\n",
       "    .dataframe tbody tr th:only-of-type {\n",
       "        vertical-align: middle;\n",
       "    }\n",
       "\n",
       "    .dataframe tbody tr th {\n",
       "        vertical-align: top;\n",
       "    }\n",
       "\n",
       "    .dataframe thead th {\n",
       "        text-align: right;\n",
       "    }\n",
       "</style>\n",
       "<table border=\"1\" class=\"dataframe\">\n",
       "  <thead>\n",
       "    <tr style=\"text-align: right;\">\n",
       "      <th></th>\n",
       "      <th>PIPELINE_I</th>\n",
       "      <th>PIPELINE_1</th>\n",
       "      <th>SHAPE_STLe</th>\n",
       "      <th>NEAR_FID</th>\n",
       "      <th>NEAR_DIST</th>\n",
       "      <th>Shape_Leng</th>\n",
       "      <th>geometry</th>\n",
       "    </tr>\n",
       "  </thead>\n",
       "  <tbody>\n",
       "    <tr>\n",
       "      <th>0</th>\n",
       "      <td>15001</td>\n",
       "      <td>15001</td>\n",
       "      <td>0.189645</td>\n",
       "      <td>34</td>\n",
       "      <td>1.58</td>\n",
       "      <td>0.189645</td>\n",
       "      <td>LINESTRING Z (5.50085 50.60570 -0.00002, 5.500...</td>\n",
       "    </tr>\n",
       "    <tr>\n",
       "      <th>1</th>\n",
       "      <td>15002</td>\n",
       "      <td>15002</td>\n",
       "      <td>0.326440</td>\n",
       "      <td>122</td>\n",
       "      <td>0.22</td>\n",
       "      <td>0.326440</td>\n",
       "      <td>LINESTRING Z (3.85509 50.47850 -0.00002, 3.854...</td>\n",
       "    </tr>\n",
       "    <tr>\n",
       "      <th>2</th>\n",
       "      <td>15000</td>\n",
       "      <td>15000</td>\n",
       "      <td>0.189733</td>\n",
       "      <td>34</td>\n",
       "      <td>1.58</td>\n",
       "      <td>0.189733</td>\n",
       "      <td>LINESTRING Z (5.50085 50.60569 -0.00002, 5.500...</td>\n",
       "    </tr>\n",
       "    <tr>\n",
       "      <th>3</th>\n",
       "      <td>15003</td>\n",
       "      <td>15003</td>\n",
       "      <td>0.011201</td>\n",
       "      <td>127</td>\n",
       "      <td>0.22</td>\n",
       "      <td>0.011201</td>\n",
       "      <td>LINESTRING Z (3.85436 50.48221 -0.00002, 3.854...</td>\n",
       "    </tr>\n",
       "    <tr>\n",
       "      <th>4</th>\n",
       "      <td>15004</td>\n",
       "      <td>15004</td>\n",
       "      <td>0.014761</td>\n",
       "      <td>127</td>\n",
       "      <td>0.22</td>\n",
       "      <td>0.014761</td>\n",
       "      <td>LINESTRING Z (3.85431 50.48219 -0.00002, 3.854...</td>\n",
       "    </tr>\n",
       "  </tbody>\n",
       "</table>\n",
       "</div>"
      ],
      "text/plain": [
       "  PIPELINE_I  PIPELINE_1  SHAPE_STLe  NEAR_FID  NEAR_DIST  Shape_Leng  \\\n",
       "0      15001       15001    0.189645        34       1.58    0.189645   \n",
       "1      15002       15002    0.326440       122       0.22    0.326440   \n",
       "2      15000       15000    0.189733        34       1.58    0.189733   \n",
       "3      15003       15003    0.011201       127       0.22    0.011201   \n",
       "4      15004       15004    0.014761       127       0.22    0.014761   \n",
       "\n",
       "                                            geometry  \n",
       "0  LINESTRING Z (5.50085 50.60570 -0.00002, 5.500...  \n",
       "1  LINESTRING Z (3.85509 50.47850 -0.00002, 3.854...  \n",
       "2  LINESTRING Z (5.50085 50.60569 -0.00002, 5.500...  \n",
       "3  LINESTRING Z (3.85436 50.48221 -0.00002, 3.854...  \n",
       "4  LINESTRING Z (3.85431 50.48219 -0.00002, 3.854...  "
      ]
     },
     "execution_count": 8,
     "metadata": {},
     "output_type": "execute_result"
    }
   ],
   "source": [
    "pipeline.head()"
   ]
  },
  {
   "cell_type": "code",
   "execution_count": null,
   "id": "d3f27430",
   "metadata": {},
   "outputs": [],
   "source": []
  },
  {
   "cell_type": "code",
   "execution_count": 26,
   "id": "d18c1ade",
   "metadata": {},
   "outputs": [
    {
     "data": {
      "text/plain": [
       "<Projected CRS: EPSG:3857>\n",
       "Name: WGS 84 / Pseudo-Mercator\n",
       "Axis Info [cartesian]:\n",
       "- [east]: Easting (metre)\n",
       "- [north]: Northing (metre)\n",
       "Area of Use:\n",
       "- undefined\n",
       "Coordinate Operation:\n",
       "- name: unnamed\n",
       "- method: Popular Visualisation Pseudo Mercator\n",
       "Datum: World Geodetic System 1984\n",
       "- Ellipsoid: WGS 84\n",
       "- Prime Meridian: Greenwich"
      ]
     },
     "execution_count": 26,
     "metadata": {},
     "output_type": "execute_result"
    }
   ],
   "source": [
    "high_tension.crs"
   ]
  },
  {
   "cell_type": "markdown",
   "id": "d6612342",
   "metadata": {},
   "source": [
    "Calculate the distance from the high-voltage power line to the pipeline within an 800m buffer (maximum value beyond which the interaction is negligible). Also, calculate the interaction distance along the pipeline, which means this distance varies within the buffer depending on whether the angle is non-zero and the angle of intersection. The given data consists of collocation_distance (interaction length) / separation_distance / collocation_angle.\n"
   ]
  },
  {
   "cell_type": "code",
   "execution_count": 27,
   "id": "e4dee3fe",
   "metadata": {},
   "outputs": [
    {
     "data": {
      "text/plain": [
       "<AxesSubplot:>"
      ]
     },
     "execution_count": 27,
     "metadata": {},
     "output_type": "execute_result"
    },
    {
     "data": {
      "image/png": "[encoded data removed]",
      "text/plain": [
       "<Figure size 432x288 with 1 Axes>"
      ]
     },
     "metadata": {
      "needs_background": "light"
     },
     "output_type": "display_data"
    }
   ],
   "source": [
    "buffer_800m = high_tension.buffer(800)\n",
    "buffer_800m.plot()"
   ]
  },
  {
   "cell_type": "code",
   "execution_count": 28,
   "id": "7a1bc633",
   "metadata": {},
   "outputs": [
    {
     "name": "stderr",
     "output_type": "stream",
     "text": [
      "D:\\NBS_work\\NBS_Data_Validation\\env\\lib\\site-packages\\geopandas\\base.py:31: UserWarning: The indices of the two GeoSeries are different.\n",
      "  warn(\"The indices of the two GeoSeries are different.\")\n",
      "D:\\NBS_work\\NBS_Data_Validation\\env\\lib\\site-packages\\ipykernel_launcher.py:1: UserWarning: CRS mismatch between the CRS of left geometries and the CRS of right geometries.\n",
      "Use `to_crs()` to reproject one of the input geometries to match the CRS of the other.\n",
      "\n",
      "Left CRS: EPSG:4326\n",
      "Right CRS: EPSG:3857\n",
      "\n",
      "  \"\"\"Entry point for launching an IPython kernel.\n"
     ]
    }
   ],
   "source": [
    "pipeline_within_buffer = pipeline.within(buffer_800m)"
   ]
  },
  {
   "cell_type": "code",
   "execution_count": 30,
   "id": "5228ba12",
   "metadata": {},
   "outputs": [
    {
     "data": {
      "text/plain": [
       "<Projected CRS: EPSG:3857>\n",
       "Name: WGS 84 / Pseudo-Mercator\n",
       "Axis Info [cartesian]:\n",
       "- [east]: Easting (metre)\n",
       "- [north]: Northing (metre)\n",
       "Area of Use:\n",
       "- undefined\n",
       "Coordinate Operation:\n",
       "- name: unnamed\n",
       "- method: Popular Visualisation Pseudo Mercator\n",
       "Datum: World Geodetic System 1984\n",
       "- Ellipsoid: WGS 84\n",
       "- Prime Meridian: Greenwich"
      ]
     },
     "execution_count": 30,
     "metadata": {},
     "output_type": "execute_result"
    }
   ],
   "source": [
    "pro_pipeline = pipeline.to_crs(high_tension.crs)\n",
    "\n",
    "# Print the CRS of pro_pipeline\n",
    "high_tension.crs"
   ]
  },
  {
   "cell_type": "code",
   "execution_count": 68,
   "id": "c3191ed5",
   "metadata": {},
   "outputs": [
    {
     "name": "stdout",
     "output_type": "stream",
     "text": [
      "<class 'geopandas.geodataframe.GeoDataFrame'>\n",
      "RangeIndex: 630 entries, 0 to 629\n",
      "Data columns (total 7 columns):\n",
      " #   Column      Non-Null Count  Dtype   \n",
      "---  ------      --------------  -----   \n",
      " 0   PIPELINE_I  630 non-null    object  \n",
      " 1   PIPELINE_1  630 non-null    int64   \n",
      " 2   SHAPE_STLe  630 non-null    float64 \n",
      " 3   NEAR_FID    630 non-null    int64   \n",
      " 4   NEAR_DIST   630 non-null    float64 \n",
      " 5   Shape_Leng  630 non-null    float64 \n",
      " 6   geometry    630 non-null    geometry\n",
      "dtypes: float64(3), geometry(1), int64(2), object(1)\n",
      "memory usage: 34.6+ KB\n"
     ]
    }
   ],
   "source": [
    "pro_pipeline.info()"
   ]
  },
  {
   "cell_type": "code",
   "execution_count": 63,
   "id": "79af0e8b",
   "metadata": {},
   "outputs": [
    {
     "data": {
      "text/plain": [
       "<AxesSubplot:>"
      ]
     },
     "execution_count": 63,
     "metadata": {},
     "output_type": "execute_result"
    },
    {
     "data": {
      "image/png": "[encoded data removed]",
      "text/plain": [
       "<Figure size 432x288 with 1 Axes>"
      ]
     },
     "metadata": {
      "needs_background": "light"
     },
     "output_type": "display_data"
    }
   ],
   "source": [
    "pro_pipeline.plot()"
   ]
  },
  {
   "cell_type": "code",
   "execution_count": 65,
   "id": "c653c541",
   "metadata": {},
   "outputs": [
    {
     "data": {
      "text/plain": [
       "153"
      ]
     },
     "execution_count": 65,
     "metadata": {},
     "output_type": "execute_result"
    }
   ],
   "source": [
    "len(high_tension)"
   ]
  },
  {
   "cell_type": "code",
   "execution_count": 113,
   "id": "dce447af",
   "metadata": {},
   "outputs": [
    {
     "name": "stderr",
     "output_type": "stream",
     "text": [
      "D:\\NBS_work\\NBS_Data_Validation\\env\\lib\\site-packages\\IPython\\core\\interactiveshell.py:3553: FutureWarning: The `op` parameter is deprecated and will be removed in a future release. Please use the `predicate` parameter instead.\n",
      "  exec(code_obj, self.user_global_ns, self.user_ns)\n",
      "D:\\NBS_work\\NBS_Data_Validation\\env\\lib\\site-packages\\ipykernel_launcher.py:108: UserWarning: Column names longer than 10 characters will be truncated when saved to ESRI Shapefile.\n"
     ]
    },
    {
     "name": "stdout",
     "output_type": "stream",
     "text": [
      "Number of pipeline features intersecting with 800m of the high tension: 43\n"
     ]
    }
   ],
   "source": [
    "import geopandas as gpd\n",
    "from shapely.geometry import LineString\n",
    "import os\n",
    "\n",
    "def classify_relative_severity(value, thresholds):\n",
    "    if value > thresholds[0]:\n",
    "        return \"High\"\n",
    "    elif thresholds[1] < value <= thresholds[0]:\n",
    "        return \"Medium\"\n",
    "    else:\n",
    "        return \"Low\"\n",
    "\n",
    "def meters_to_feet(meters):\n",
    "    return meters * 3.28084  # Convert meters to feet\n",
    "\n",
    "def calculate_collocation_length(row):\n",
    "    return meters_to_feet(row['geometry'].length)\n",
    "\n",
    "def calculate_collocation_angle(row):\n",
    "    pipeline_geometry = row['geometry']\n",
    "    buffer_geometry = row['buffer']\n",
    "\n",
    "    intersection_line = LineString(buffer_geometry.exterior)\n",
    "    intersection_points = intersection_line.boundary.intersection(pipeline_geometry)\n",
    "    \n",
    "    if intersection_points.is_empty:\n",
    "        return 0\n",
    "    else:\n",
    "        intersection_point = intersection_points[0]\n",
    "        pipeline_segment = LineString([intersection_point, pipeline_geometry.interpolate(pipeline_geometry.project(intersection_point))])\n",
    "        angle = pipeline_segment.angle\n",
    "        return angle\n",
    "\n",
    "def calculate_separation_distance(row):\n",
    "    angle = row['collocation_angle']\n",
    "    if angle != 0:\n",
    "        intersection_point = row['geometry'].interpolate(0.5, normalized=True)\n",
    "        distance_to_line = intersection_point.distance(row['buffer'])\n",
    "        separation_distance = meters_to_feet(row['buffer_distance']) - (distance_to_line / abs(angle))\n",
    "    else:\n",
    "        separation_distance = meters_to_feet(row['buffer_distance'])\n",
    "    return separation_distance\n",
    "\n",
    "\n",
    "def calculate_collocation_info(pipeline_gdf, high_tension_gdf, buffer_distance,\n",
    "                                collocation_thresholds, separation_thresholds, angle_thresholds, target_crs):\n",
    "    # Convert input data to the target CRS\n",
    "    pipeline_gdf = pipeline_gdf.to_crs(target_crs)\n",
    "    high_tension_gdf = high_tension_gdf.to_crs(target_crs)\n",
    "\n",
    "    # Buffer around the high-tension power line\n",
    "    high_tension_gdf['buffer'] = high_tension_gdf['geometry'].buffer(buffer_distance)\n",
    "    \n",
    "    # Dissolve the buffer polygons to create a single boundary\n",
    "    dissolved_buffer = high_tension_gdf.dissolve(by='Code_Zone_')  # Replace 'some_attribute' with an appropriate attribute to dissolve by\n",
    "    \n",
    "    # Select pipeline features within the dissolved buffer\n",
    "    pipeline_buffer_gdf = gpd.sjoin(pipeline_gdf, dissolved_buffer, op='intersects', how='inner')\n",
    "\n",
    "    # Calculate collocation length\n",
    "    pipeline_buffer_gdf['collocation_length'] = pipeline_buffer_gdf.apply(calculate_collocation_length, axis=1)\n",
    "    \n",
    "    # Calculate collocation angle\n",
    "    pipeline_buffer_gdf['collocation_angle'] = pipeline_buffer_gdf.apply(calculate_collocation_angle, axis=1)\n",
    "    \n",
    "    # Add the 'buffer_distance' column\n",
    "    pipeline_buffer_gdf['buffer_distance'] = buffer_distance\n",
    "\n",
    "    # Calculate separation distance\n",
    "    pipeline_buffer_gdf['separation_distance'] = pipeline_buffer_gdf.apply(calculate_separation_distance, axis=1)\n",
    "    \n",
    "\n",
    "    # Calculate relative severity thresholds\n",
    "    pipeline_buffer_gdf['relative_severity_collocation'] = pipeline_buffer_gdf['collocation_length'].apply(classify_relative_severity, thresholds=collocation_thresholds)\n",
    "    pipeline_buffer_gdf['relative_severity_collocation_angle'] = pipeline_buffer_gdf['collocation_angle'].apply(classify_relative_severity, thresholds=angle_thresholds)\n",
    "    pipeline_buffer_gdf['relative_severity_separation'] = pipeline_buffer_gdf['separation_distance'].apply(classify_relative_severity, thresholds=separation_thresholds)\n",
    "    \n",
    "    # Select only the desired columns\n",
    "    final_columns = ['PIPELINE_I', 'collocation_length', 'collocation_angle', 'separation_distance',\n",
    "                     'relative_severity_collocation', 'relative_severity_separation',\n",
    "                     'relative_severity_collocation_angle', 'geometry']\n",
    "    pipeline_buffer_gdf = pipeline_buffer_gdf[final_columns]\n",
    "\n",
    "    return pipeline_buffer_gdf\n",
    "\n",
    "\n",
    "\n",
    "if __name__ == \"__main__\":\n",
    "    # Load pipeline and high tension data\n",
    "    path = 'les données'\n",
    "    pipeline_data = gpd.read_file(os.path.join(path,'pipeline.shp'))\n",
    "    high_tension_data = gpd.read_file(os.path.join(path,'ligne_haute_tension.shp'))\n",
    "    \n",
    "    # Set buffer distance, CRS, and thresholds\n",
    "    buffer_distance = 800\n",
    "    target_crs = \"EPSG:3857\"  # Define your target CRS here\n",
    "\n",
    "    collocation_thresholds = [5000, 1000]\n",
    "    separation_thresholds = [200, 0]  # Adjust separation thresholds as needed\n",
    "    angle_thresholds = [60, 30]\n",
    "\n",
    "    result = calculate_collocation_info(pipeline_data, high_tension_data, buffer_distance,\n",
    "                                        collocation_thresholds, separation_thresholds, angle_thresholds, target_crs)\n",
    "\n",
    "    print(f\"Number of pipeline features intersecting with {buffer_distance}m of the high tension:\", len(result))\n",
    "\n",
    "    # Save result to a shapefile with GeoDataFrame export engine specified\n",
    "    result.to_file('pipeline_collocation_result.shp', driver='ESRI Shapefile', encoding='utf-8')\n"
   ]
  },
  {
   "cell_type": "code",
   "execution_count": 114,
   "id": "99684d61",
   "metadata": {},
   "outputs": [
    {
     "data": {
      "text/html": [
       "<div>\n",
       "<style scoped>\n",
       "    .dataframe tbody tr th:only-of-type {\n",
       "        vertical-align: middle;\n",
       "    }\n",
       "\n",
       "    .dataframe tbody tr th {\n",
       "        vertical-align: top;\n",
       "    }\n",
       "\n",
       "    .dataframe thead th {\n",
       "        text-align: right;\n",
       "    }\n",
       "</style>\n",
       "<table border=\"1\" class=\"dataframe\">\n",
       "  <thead>\n",
       "    <tr style=\"text-align: right;\">\n",
       "      <th></th>\n",
       "      <th>PIPELINE_I</th>\n",
       "      <th>collocation_length</th>\n",
       "      <th>collocation_angle</th>\n",
       "      <th>separation_distance</th>\n",
       "      <th>relative_severity_collocation</th>\n",
       "      <th>relative_severity_separation</th>\n",
       "      <th>relative_severity_collocation_angle</th>\n",
       "      <th>geometry</th>\n",
       "    </tr>\n",
       "  </thead>\n",
       "  <tbody>\n",
       "    <tr>\n",
       "      <th>35</th>\n",
       "      <td>274</td>\n",
       "      <td>26077.059498</td>\n",
       "      <td>0</td>\n",
       "      <td>2624.672</td>\n",
       "      <td>High</td>\n",
       "      <td>High</td>\n",
       "      <td>Low</td>\n",
       "      <td>LINESTRING (253067.496 6625037.005, 253061.819...</td>\n",
       "    </tr>\n",
       "    <tr>\n",
       "      <th>133</th>\n",
       "      <td>151</td>\n",
       "      <td>3091.873063</td>\n",
       "      <td>0</td>\n",
       "      <td>2624.672</td>\n",
       "      <td>Medium</td>\n",
       "      <td>High</td>\n",
       "      <td>Low</td>\n",
       "      <td>LINESTRING (253156.775 6624326.681, 253155.216...</td>\n",
       "    </tr>\n",
       "    <tr>\n",
       "      <th>147</th>\n",
       "      <td>3437</td>\n",
       "      <td>5871.053331</td>\n",
       "      <td>0</td>\n",
       "      <td>2624.672</td>\n",
       "      <td>High</td>\n",
       "      <td>High</td>\n",
       "      <td>Low</td>\n",
       "      <td>LINESTRING (387710.870 6505166.466, 387711.872...</td>\n",
       "    </tr>\n",
       "    <tr>\n",
       "      <th>150</th>\n",
       "      <td>3666</td>\n",
       "      <td>238230.491133</td>\n",
       "      <td>0</td>\n",
       "      <td>2624.672</td>\n",
       "      <td>High</td>\n",
       "      <td>High</td>\n",
       "      <td>Low</td>\n",
       "      <td>LINESTRING (286317.738 6554868.590, 286341.560...</td>\n",
       "    </tr>\n",
       "    <tr>\n",
       "      <th>159</th>\n",
       "      <td>37</td>\n",
       "      <td>4152.958733</td>\n",
       "      <td>0</td>\n",
       "      <td>2624.672</td>\n",
       "      <td>Medium</td>\n",
       "      <td>High</td>\n",
       "      <td>Low</td>\n",
       "      <td>LINESTRING (253236.702 6624736.870, 253229.132...</td>\n",
       "    </tr>\n",
       "  </tbody>\n",
       "</table>\n",
       "</div>"
      ],
      "text/plain": [
       "    PIPELINE_I  collocation_length  collocation_angle  separation_distance  \\\n",
       "35         274        26077.059498                  0             2624.672   \n",
       "133        151         3091.873063                  0             2624.672   \n",
       "147       3437         5871.053331                  0             2624.672   \n",
       "150       3666       238230.491133                  0             2624.672   \n",
       "159         37         4152.958733                  0             2624.672   \n",
       "\n",
       "    relative_severity_collocation relative_severity_separation  \\\n",
       "35                           High                         High   \n",
       "133                        Medium                         High   \n",
       "147                          High                         High   \n",
       "150                          High                         High   \n",
       "159                        Medium                         High   \n",
       "\n",
       "    relative_severity_collocation_angle  \\\n",
       "35                                  Low   \n",
       "133                                 Low   \n",
       "147                                 Low   \n",
       "150                                 Low   \n",
       "159                                 Low   \n",
       "\n",
       "                                              geometry  \n",
       "35   LINESTRING (253067.496 6625037.005, 253061.819...  \n",
       "133  LINESTRING (253156.775 6624326.681, 253155.216...  \n",
       "147  LINESTRING (387710.870 6505166.466, 387711.872...  \n",
       "150  LINESTRING (286317.738 6554868.590, 286341.560...  \n",
       "159  LINESTRING (253236.702 6624736.870, 253229.132...  "
      ]
     },
     "execution_count": 114,
     "metadata": {},
     "output_type": "execute_result"
    }
   ],
   "source": [
    "result.head()"
   ]
  },
  {
   "cell_type": "code",
   "execution_count": 13,
   "id": "484ae650",
   "metadata": {},
   "outputs": [
    {
     "name": "stderr",
     "output_type": "stream",
     "text": [
      "D:\\NBS_work\\NBS_Data_Validation\\env\\lib\\site-packages\\IPython\\core\\interactiveshell.py:3553: FutureWarning: The `op` parameter is deprecated and will be removed in a future release. Please use the `predicate` parameter instead.\n",
      "  exec(code_obj, self.user_global_ns, self.user_ns)\n"
     ]
    },
    {
     "name": "stdout",
     "output_type": "stream",
     "text": [
      "1\n",
      "Number of pipeline features intersecting with 800m of the high tension: 43\n"
     ]
    },
    {
     "name": "stderr",
     "output_type": "stream",
     "text": [
      "D:\\NBS_work\\NBS_Data_Validation\\env\\lib\\site-packages\\ipykernel_launcher.py:143: UserWarning: Column names longer than 10 characters will be truncated when saved to ESRI Shapefile.\n"
     ]
    }
   ],
   "source": [
    "import geopandas as gpd\n",
    "from shapely.geometry import LineString\n",
    "from shapely.geometry import Point\n",
    "import os\n",
    "import math\n",
    "\n",
    "def classify_relative_severity(value, thresholds):\n",
    "    if value < thresholds[0]:\n",
    "        return \"High\"\n",
    "    elif thresholds[1] > value >= thresholds[0]:\n",
    "        return \"Medium\"\n",
    "    else:\n",
    "        return \"Low\"\n",
    "    \n",
    "def col_length_relative_severity(value, thresholds):\n",
    "    if value > thresholds[0]:\n",
    "        return \"High\"\n",
    "    elif thresholds[1] < value <= thresholds[0]:\n",
    "        return \"Medium\"\n",
    "    else:\n",
    "        return \"Low\"\n",
    "\n",
    "\n",
    "def meters_to_feet(meters):\n",
    "    return meters * 3.28084  # Convert meters to feet\n",
    "\n",
    "def calculate_collocation_length(row):\n",
    "    return meters_to_feet(row['geometry'].length)\n",
    "\n",
    "\n",
    "def calculate_collocation_angle(pipeline_geometry, buffer_geometry):\n",
    "    \"\"\"\n",
    "    Calculate the collocation angle between a pipeline and a high-tension power line.\n",
    "\n",
    "    Args:\n",
    "        pipeline_geometry (LineString): Shapely LineString representing the pipeline.\n",
    "        buffer_geometry (Polygon): Shapely Polygon representing the buffer around the power line.\n",
    "\n",
    "    Returns:\n",
    "        float: The collocation angle in degrees.\n",
    "    \"\"\"\n",
    "    intersection_line = pipeline_geometry.intersection(buffer_geometry)\n",
    "    if intersection_line.is_empty:\n",
    "        return 0\n",
    "    elif isinstance(intersection_line, Point):\n",
    "        intersection_coords = list(intersection_line.coords)[0]\n",
    "        dx = pipeline_geometry.interpolate(pipeline_geometry.project(Point(intersection_coords))).x - intersection_coords[0]\n",
    "        dy = pipeline_geometry.interpolate(pipeline_geometry.project(Point(intersection_coords))).y - intersection_coords[1]\n",
    "        angle = math.degrees(math.atan2(dy, dx))\n",
    "        abs_angle = abs(angle)  # Calculate the absolute value of the angle\n",
    "        return abs_angle\n",
    "    else:\n",
    "        # Calculate angles for all intersection segments and then calculate the average\n",
    "        angles = []\n",
    "        for segment in intersection_line.geoms:  # Iterate through the individual line segments\n",
    "            if len(segment.coords) >= 2:\n",
    "                angle = math.degrees(math.atan2(segment.coords[1][1] - segment.coords[0][1],\n",
    "                                                segment.coords[1][0] - segment.coords[0][0]))\n",
    "                angles.append(abs(angle))  # Append the absolute value of the angle\n",
    "        \n",
    "        if angles:\n",
    "            average_angle = angle #sum(angles) / len(angles)\n",
    "            return average_angle  # Return the average angle of intersection\n",
    "        else:\n",
    "            return 0  # No valid segments, return 0 angle\n",
    "\n",
    "\n",
    "def calculate_separation_distance(row):\n",
    "    angle = row['collocation_angle']\n",
    "    if angle != 0:\n",
    "        intersection_point = row['geometry'].interpolate(0.5, normalized=True)\n",
    "        distance_to_line = intersection_point.distance(row['buffer'])\n",
    "        separation_distance = meters_to_feet(row['buffer_distance']) - (distance_to_line / abs(angle))\n",
    "    else:\n",
    "        separation_distance = meters_to_feet(row['buffer_distance'])\n",
    "    return separation_distance\n",
    "\n",
    "\n",
    "def calculate_collocation_info(pipeline_gdf, high_tension_gdf, buffer_distance,\n",
    "                                collocation_thresholds, separation_thresholds, angle_thresholds, target_crs):\n",
    "    # Convert input data to the target CRS\n",
    "    pipeline_gdf = pipeline_gdf.to_crs(target_crs)\n",
    "    high_tension_gdf = high_tension_gdf.to_crs(target_crs)\n",
    "\n",
    "    # Buffer around the high-tension power line\n",
    "    high_tension_gdf['buffer'] = high_tension_gdf['geometry'].buffer(buffer_distance)\n",
    "    \n",
    "    # Dissolve the buffer polygons to create a single boundary\n",
    "    dissolved_buffer = high_tension_gdf.dissolve(by='Code_Zone_')  # Replace 'some_attribute' with an appropriate attribute to dissolve by\n",
    "    \n",
    "    # Select pipeline features within the dissolved buffer\n",
    "    pipeline_buffer_gdf = gpd.sjoin(pipeline_gdf, dissolved_buffer, op='intersects', how='inner')\n",
    "\n",
    "    # Calculate collocation length\n",
    "    pipeline_buffer_gdf['collocation_length'] = pipeline_buffer_gdf.apply(calculate_collocation_length, axis=1)\n",
    "\n",
    "    merged_high = high_tension_gdf.dissolve(by='Code_Zone_')\n",
    "    \n",
    "    # Calculate collocation angle\n",
    "    pipeline_buffer_gdf['collocation_angle'] = pipeline_buffer_gdf.apply(\n",
    "        lambda row: calculate_collocation_angle(row['geometry'], merged_high['geometry'].iloc[0]), axis=1)\n",
    "\n",
    "    # Add the 'buffer_distance' column\n",
    "    pipeline_buffer_gdf['buffer_distance'] = buffer_distance\n",
    "\n",
    "    # Calculate separation distance\n",
    "    pipeline_buffer_gdf['separation_distance'] = pipeline_buffer_gdf.apply(calculate_separation_distance, axis=1)\n",
    "\n",
    "    # Calculate relative severity thresholds\n",
    "    pipeline_buffer_gdf['relative_severity_collocation'] = pipeline_buffer_gdf['collocation_length'].apply(col_length_relative_severity, thresholds=collocation_thresholds)\n",
    "    pipeline_buffer_gdf['relative_severity_collocation_angle'] = pipeline_buffer_gdf['collocation_angle'].apply(classify_relative_severity, thresholds=angle_thresholds)\n",
    "    pipeline_buffer_gdf['relative_severity_separation'] = pipeline_buffer_gdf['separation_distance'].apply(classify_relative_severity, thresholds=separation_thresholds)\n",
    "    \n",
    "    # Select only the desired columns\n",
    "    final_columns = ['PIPELINE_I', 'collocation_length', 'collocation_angle', 'separation_distance',\n",
    "                     'relative_severity_collocation','relative_severity_collocation_angle',\n",
    "                     'relative_severity_separation','geometry']\n",
    "    pipeline_buffer_gdf = pipeline_buffer_gdf[final_columns]\n",
    "\n",
    "    return pipeline_buffer_gdf\n",
    "\n",
    "\n",
    "if __name__ == \"__main__\":\n",
    "    # Load pipeline and high tension data\n",
    "    path = 'les données'\n",
    "    pipeline_data = gpd.read_file(os.path.join(path,'pipeline.shp'))\n",
    "    high_tension_data = gpd.read_file(os.path.join(path,'ligne_haute_tension.shp'))\n",
    "    \n",
    "    # Set buffer distance, CRS, and thresholds\n",
    "    buffer_distance = 800\n",
    "    target_crs = \"EPSG:3857\"  # Define your target CRS here\n",
    "\n",
    "    collocation_thresholds = [5000, 1000]\n",
    "    separation_thresholds = [100, 2500]  # Adjust separation thresholds as needed\n",
    "    angle_thresholds = [30, 60]\n",
    "\n",
    "    result = calculate_collocation_info(pipeline_data, high_tension_data, buffer_distance,\n",
    "                                        collocation_thresholds, separation_thresholds, angle_thresholds, target_crs)\n",
    "\n",
    "    print(f\"Number of pipeline features intersecting with {buffer_distance}m of the high tension:\", len(result))\n",
    "\n",
    "    # Save result to a shapefile with GeoDataFrame export engine specified\n",
    "    result.to_file('pipeline_collocation_result.shp', driver='ESRI Shapefile', encoding='utf-8')\n"
   ]
  },
  {
   "cell_type": "code",
   "execution_count": 12,
   "id": "7a024d23",
   "metadata": {},
   "outputs": [
    {
     "data": {
      "text/html": [
       "<div>\n",
       "<style scoped>\n",
       "    .dataframe tbody tr th:only-of-type {\n",
       "        vertical-align: middle;\n",
       "    }\n",
       "\n",
       "    .dataframe tbody tr th {\n",
       "        vertical-align: top;\n",
       "    }\n",
       "\n",
       "    .dataframe thead th {\n",
       "        text-align: right;\n",
       "    }\n",
       "</style>\n",
       "<table border=\"1\" class=\"dataframe\">\n",
       "  <thead>\n",
       "    <tr style=\"text-align: right;\">\n",
       "      <th></th>\n",
       "      <th>PIPELINE_I</th>\n",
       "      <th>collocation_length</th>\n",
       "      <th>collocation_angle</th>\n",
       "      <th>separation_distance</th>\n",
       "      <th>relative_severity_collocation</th>\n",
       "      <th>relative_severity_collocation_angle</th>\n",
       "      <th>relative_severity_separation</th>\n",
       "      <th>geometry</th>\n",
       "    </tr>\n",
       "  </thead>\n",
       "  <tbody>\n",
       "    <tr>\n",
       "      <th>35</th>\n",
       "      <td>274</td>\n",
       "      <td>26077.059498</td>\n",
       "      <td>0.0</td>\n",
       "      <td>2624.672</td>\n",
       "      <td>High</td>\n",
       "      <td>High</td>\n",
       "      <td>Low</td>\n",
       "      <td>LINESTRING (253067.496 6625037.005, 253061.819...</td>\n",
       "    </tr>\n",
       "    <tr>\n",
       "      <th>133</th>\n",
       "      <td>151</td>\n",
       "      <td>3091.873063</td>\n",
       "      <td>0.0</td>\n",
       "      <td>2624.672</td>\n",
       "      <td>Medium</td>\n",
       "      <td>High</td>\n",
       "      <td>Low</td>\n",
       "      <td>LINESTRING (253156.775 6624326.681, 253155.216...</td>\n",
       "    </tr>\n",
       "    <tr>\n",
       "      <th>147</th>\n",
       "      <td>3437</td>\n",
       "      <td>5871.053331</td>\n",
       "      <td>0.0</td>\n",
       "      <td>2624.672</td>\n",
       "      <td>High</td>\n",
       "      <td>High</td>\n",
       "      <td>Low</td>\n",
       "      <td>LINESTRING (387710.870 6505166.466, 387711.872...</td>\n",
       "    </tr>\n",
       "    <tr>\n",
       "      <th>150</th>\n",
       "      <td>3666</td>\n",
       "      <td>238230.491133</td>\n",
       "      <td>0.0</td>\n",
       "      <td>2624.672</td>\n",
       "      <td>High</td>\n",
       "      <td>High</td>\n",
       "      <td>Low</td>\n",
       "      <td>LINESTRING (286317.738 6554868.590, 286341.560...</td>\n",
       "    </tr>\n",
       "    <tr>\n",
       "      <th>159</th>\n",
       "      <td>37</td>\n",
       "      <td>4152.958733</td>\n",
       "      <td>0.0</td>\n",
       "      <td>2624.672</td>\n",
       "      <td>Medium</td>\n",
       "      <td>High</td>\n",
       "      <td>Low</td>\n",
       "      <td>LINESTRING (253236.702 6624736.870, 253229.132...</td>\n",
       "    </tr>\n",
       "  </tbody>\n",
       "</table>\n",
       "</div>"
      ],
      "text/plain": [
       "    PIPELINE_I  collocation_length  collocation_angle  separation_distance  \\\n",
       "35         274        26077.059498                0.0             2624.672   \n",
       "133        151         3091.873063                0.0             2624.672   \n",
       "147       3437         5871.053331                0.0             2624.672   \n",
       "150       3666       238230.491133                0.0             2624.672   \n",
       "159         37         4152.958733                0.0             2624.672   \n",
       "\n",
       "    relative_severity_collocation relative_severity_collocation_angle  \\\n",
       "35                           High                                High   \n",
       "133                        Medium                                High   \n",
       "147                          High                                High   \n",
       "150                          High                                High   \n",
       "159                        Medium                                High   \n",
       "\n",
       "    relative_severity_separation  \\\n",
       "35                           Low   \n",
       "133                          Low   \n",
       "147                          Low   \n",
       "150                          Low   \n",
       "159                          Low   \n",
       "\n",
       "                                              geometry  \n",
       "35   LINESTRING (253067.496 6625037.005, 253061.819...  \n",
       "133  LINESTRING (253156.775 6624326.681, 253155.216...  \n",
       "147  LINESTRING (387710.870 6505166.466, 387711.872...  \n",
       "150  LINESTRING (286317.738 6554868.590, 286341.560...  \n",
       "159  LINESTRING (253236.702 6624736.870, 253229.132...  "
      ]
     },
     "execution_count": 12,
     "metadata": {},
     "output_type": "execute_result"
    }
   ],
   "source": [
    "result.head()"
   ]
  },
  {
   "cell_type": "code",
   "execution_count": 156,
   "id": "3e2e1b19",
   "metadata": {},
   "outputs": [
    {
     "data": {
      "text/plain": [
       "<AxesSubplot:>"
      ]
     },
     "execution_count": 156,
     "metadata": {},
     "output_type": "execute_result"
    },
    {
     "data": {
      "image/png": "[encoded data removed]",
      "text/plain": [
       "<Figure size 432x288 with 1 Axes>"
      ]
     },
     "metadata": {
      "needs_background": "light"
     },
     "output_type": "display_data"
    }
   ],
   "source": [
    "result.plot()"
   ]
  },
  {
   "cell_type": "code",
   "execution_count": null,
   "id": "b1eab009",
   "metadata": {},
   "outputs": [],
   "source": []
  }
 ],
 "metadata": {
  "kernelspec": {
   "display_name": "Python 3 (ipykernel)",
   "language": "python",
   "name": "python3"
  },
  "language_info": {
   "codemirror_mode": {
    "name": "ipython",
    "version": 3
   },
   "file_extension": ".py",
   "mimetype": "text/x-python",
   "name": "python",
   "nbconvert_exporter": "python",
   "pygments_lexer": "ipython3",
   "version": "3.7.0"
  }
 },
 "nbformat": 4,
 "nbformat_minor": 5
}
